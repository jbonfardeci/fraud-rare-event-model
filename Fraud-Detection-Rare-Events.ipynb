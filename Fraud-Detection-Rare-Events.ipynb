{
 "cells": [
  {
   "cell_type": "markdown",
   "metadata": {},
   "source": [
    "# Modeling Rare Events with Fraud Detection and Random Oversampling"
   ]
  },
  {
   "cell_type": "code",
   "execution_count": 1,
   "metadata": {},
   "outputs": [],
   "source": [
    "# Import dependencies\n",
    "import dask\n",
    "import dask.dataframe as ddf\n",
    "import numpy as np\n",
    "import pandas as pd\n",
    "\n",
    "from sklearn.metrics import roc_curve, auc, confusion_matrix, mean_squared_error, accuracy_score, classification_report, precision_score, recall_score, roc_auc_score\n",
    "from sklearn.linear_model import ElasticNet\n",
    "from sklearn.feature_selection import SelectFromModel\n",
    "from sklearn.model_selection import train_test_split\n",
    "import sklearn.metrics as metrics\n",
    "\n",
    "from matplotlib import pyplot as plt\n",
    "plt.style.use('ggplot')\n",
    "%matplotlib inline\n",
    "\n",
    "import seaborn as sb\n",
    "\n",
    "import statsmodels.api as sm\n",
    "import statsmodels.formula.api as smf\n",
    "import re\n",
    "from imblearn.over_sampling import RandomOverSampler\n"
   ]
  },
  {
   "cell_type": "markdown",
   "metadata": {},
   "source": [
    "## Utility Functions"
   ]
  },
  {
   "cell_type": "code",
   "execution_count": 2,
   "metadata": {},
   "outputs": [],
   "source": [
    "def get_elasticnet(X, y, column_names, max_iter=10000):\n",
    "    \"\"\"\n",
    "    Select significant variables according to Elastic Net.\n",
    "    @param X <Pandas Dataframe>\n",
    "    @param y <list>\n",
    "    @columns <list>\n",
    "    @max_iter <int>\n",
    "    @returns <list>\n",
    "    \"\"\" \n",
    "    def get_mse(alpha):\n",
    "        model = ElasticNet(alpha=a, max_iter=max_iter).fit(X, y)   \n",
    "        score = model.score(X, y)\n",
    "        pred_y = model.predict(X)\n",
    "        return mean_squared_error(y, pred_y)\n",
    "        \n",
    "    lowest_mse = 1.0\n",
    "    best_alpha = 0.0\n",
    "    alphas = [0.0001, 0.001, 0.01, 0.1, 0.3, 0.5, 0.7, 1]\n",
    "    \n",
    "    for a in alphas:\n",
    "        mse = get_mse(a)\n",
    "        if mse < lowest_mse:\n",
    "            lowest_mse = mse\n",
    "            best_alpha = a\n",
    "        \n",
    "    clf = ElasticNet(alpha=best_alpha, max_iter=max_iter)\n",
    "    sfm = SelectFromModel(clf)\n",
    "    sfm.fit(X, y)\n",
    "    feature_indices = sfm.get_support()\n",
    "    significant_features = []\n",
    "    for c, b in zip(column_names, feature_indices):\n",
    "        if b:\n",
    "            significant_features.append(c)\n",
    "\n",
    "    return significant_features\n",
    "\n",
    "def get_balanced_accuracy(tpr, fpr):\n",
    "    \"\"\"\n",
    "    Return average of Sensitivity and Specificity.\n",
    "    \"\"\"\n",
    "    return (tpr + (1-fpr)) / 2\n",
    "\n",
    "def get_tpr_fpr(cm):\n",
    "    \"\"\"\n",
    "    Sensitivity: TruePos / (True Pos + False Neg) \n",
    "    Specificity: True Neg / (False Pos + True Neg)\n",
    "    TN | FP\n",
    "    -------\n",
    "    FN | TP\n",
    "    @param 2D array <list<list>>\n",
    "    @returns <list<float>>\n",
    "    \"\"\"\n",
    "    tn = float(cm[0][0])\n",
    "    fp = float(cm[0][1])\n",
    "    fn = float(cm[1][0])\n",
    "    tp = float(cm[1][1])\n",
    "\n",
    "    tpr = tp / (tp + fn)\n",
    "    fpr = 1-(tn / (fp + tn))\n",
    "\n",
    "    return [tpr, fpr]\n",
    "\n",
    "def get_best_cutoff(actual, prob):  \n",
    "    \"\"\"\n",
    "    Get the best cutoff according to Balanced Accuracy\n",
    "    'Brute-force' technique - try all cutoffs from 0.01 to 0.99 in increments of 0.01\n",
    "\n",
    "    @param actual <list<float>>\n",
    "    @param prob <list<tuple<float, float>>>\n",
    "    @returns <list<float>>\n",
    "    \"\"\"\n",
    "    best_tpr = 0.0; best_fpr = 0.0; best_cutoff = 0.0; best_ba = 0.0; \n",
    "    cutoff = 0.0\n",
    "    cm = [[0,0],[0,0]]\n",
    "    while cutoff < 1.0:\n",
    "        pred = list(map(lambda p: 1 if p >= cutoff else 0, prob))\n",
    "        _cm = confusion_matrix(actual, pred)\n",
    "        _tpr, _fpr = get_tpr_fpr(_cm)\n",
    "\n",
    "        if(_tpr < 1.0):    \n",
    "            ba = get_balanced_accuracy(tpr=_tpr, fpr=_fpr)\n",
    "\n",
    "            if(ba > best_ba):\n",
    "                best_ba = ba\n",
    "                best_cutoff = cutoff\n",
    "                best_tpr = _tpr\n",
    "                best_fpr = _fpr\n",
    "                cm = _cm\n",
    "\n",
    "        cutoff += 0.01\n",
    "\n",
    "    tn = cm[0][0]; fp = cm[0][1]; fn = cm[1][0]; tp = cm[1][1];\n",
    "    return [best_tpr, best_fpr, best_cutoff, tn, fp, fn, tp]\n",
    "    \n",
    "# create confusion matrix\n",
    "def get_predict_frame(actual, prob, model_name='Logit'):\n",
    "    \"\"\"\n",
    "    Compute predicted based on estimated probabilities and best threshold. \n",
    "    Output predictions and confusion matrix.\n",
    "    \"\"\"\n",
    "    # calculate TPR, FPR, best probability threshold\n",
    "    tpr, fpr, cutoff, tn, fp, fn, tp = get_best_cutoff(actual, prob)\n",
    "    accuracy = get_balanced_accuracy(tpr, fpr)\n",
    "    auc = roc_auc_score(actual, prob)\n",
    "    \n",
    "    #print(\"Optimal prob. threshold is %0.3f: \" % cutoff)\n",
    "    yhat = list(map(lambda p: 1 if p >= cutoff else 0, prob))\n",
    "    stats = pd.DataFrame(columns=['Model', 'TP', 'FP', 'TN', 'FN', 'Sensitivity', 'Specificity', 'Cutoff', 'Accuracy', 'AUC'],\n",
    "                data=[[model_name, tp, fp, tn, fn, tpr, (1-fpr), cutoff, accuracy, auc]])\n",
    "\n",
    "    print(\"Sensitivity: {0:.3f}%, Specificity: {1:.3f}%, Threshold: {2:.3f}\".format(tpr*100, (1-fpr)*100, cutoff))\n",
    "    return yhat, stats\n",
    "\n",
    "def plot_roc(actual, prob):\n",
    "    # calculate ROC curve\n",
    "    fpr, tpr, thresholds = roc_curve(actual, prob)\n",
    "\n",
    "    # plot ROC curve\n",
    "    fig = plt.figure(figsize=(10, 10))\n",
    "    # Plot the diagonal 50% line\n",
    "    plt.plot([0, 1], [0, 1], 'k--')\n",
    "    # Plot the FPR and TPR achieved by our model\n",
    "    plt.plot(fpr, tpr)\n",
    "    plt.xlabel('Specificity')\n",
    "    plt.ylabel('Sensitivity')\n",
    "    plt.title('ROC Curve')\n",
    "    plt.show()"
   ]
  },
  {
   "cell_type": "markdown",
   "metadata": {},
   "source": [
    "## Sample"
   ]
  },
  {
   "cell_type": "code",
   "execution_count": 3,
   "metadata": {},
   "outputs": [
    {
     "data": {
      "text/html": [
       "<div>\n",
       "<style scoped>\n",
       "    .dataframe tbody tr th:only-of-type {\n",
       "        vertical-align: middle;\n",
       "    }\n",
       "\n",
       "    .dataframe tbody tr th {\n",
       "        vertical-align: top;\n",
       "    }\n",
       "\n",
       "    .dataframe thead th {\n",
       "        text-align: right;\n",
       "    }\n",
       "</style>\n",
       "<table border=\"1\" class=\"dataframe\">\n",
       "  <thead>\n",
       "    <tr style=\"text-align: right;\">\n",
       "      <th></th>\n",
       "      <th>Time</th>\n",
       "      <th>V1</th>\n",
       "      <th>V2</th>\n",
       "      <th>V3</th>\n",
       "      <th>V4</th>\n",
       "      <th>V5</th>\n",
       "      <th>V6</th>\n",
       "      <th>V7</th>\n",
       "      <th>V8</th>\n",
       "      <th>V9</th>\n",
       "      <th>...</th>\n",
       "      <th>V21</th>\n",
       "      <th>V22</th>\n",
       "      <th>V23</th>\n",
       "      <th>V24</th>\n",
       "      <th>V25</th>\n",
       "      <th>V26</th>\n",
       "      <th>V27</th>\n",
       "      <th>V28</th>\n",
       "      <th>Amount</th>\n",
       "      <th>Class</th>\n",
       "    </tr>\n",
       "  </thead>\n",
       "  <tbody>\n",
       "    <tr>\n",
       "      <th>count</th>\n",
       "      <td>284807.000000</td>\n",
       "      <td>2.848070e+05</td>\n",
       "      <td>2.848070e+05</td>\n",
       "      <td>2.848070e+05</td>\n",
       "      <td>2.848070e+05</td>\n",
       "      <td>2.848070e+05</td>\n",
       "      <td>2.848070e+05</td>\n",
       "      <td>2.848070e+05</td>\n",
       "      <td>2.848070e+05</td>\n",
       "      <td>2.848070e+05</td>\n",
       "      <td>...</td>\n",
       "      <td>2.848070e+05</td>\n",
       "      <td>2.848070e+05</td>\n",
       "      <td>2.848070e+05</td>\n",
       "      <td>2.848070e+05</td>\n",
       "      <td>2.848070e+05</td>\n",
       "      <td>2.848070e+05</td>\n",
       "      <td>2.848070e+05</td>\n",
       "      <td>2.848070e+05</td>\n",
       "      <td>284807.000000</td>\n",
       "      <td>284807.000000</td>\n",
       "    </tr>\n",
       "    <tr>\n",
       "      <th>mean</th>\n",
       "      <td>94813.859575</td>\n",
       "      <td>1.762597e-12</td>\n",
       "      <td>-8.251146e-13</td>\n",
       "      <td>-9.655448e-13</td>\n",
       "      <td>8.321385e-13</td>\n",
       "      <td>1.649983e-13</td>\n",
       "      <td>4.248434e-13</td>\n",
       "      <td>-3.054696e-13</td>\n",
       "      <td>8.777981e-14</td>\n",
       "      <td>-1.179757e-12</td>\n",
       "      <td>...</td>\n",
       "      <td>-3.405785e-13</td>\n",
       "      <td>-5.723165e-13</td>\n",
       "      <td>-9.725860e-13</td>\n",
       "      <td>1.464148e-12</td>\n",
       "      <td>-6.987110e-13</td>\n",
       "      <td>-5.617884e-13</td>\n",
       "      <td>3.332082e-12</td>\n",
       "      <td>-3.518875e-12</td>\n",
       "      <td>88.349619</td>\n",
       "      <td>0.001727</td>\n",
       "    </tr>\n",
       "    <tr>\n",
       "      <th>std</th>\n",
       "      <td>47488.145955</td>\n",
       "      <td>1.958696e+00</td>\n",
       "      <td>1.651309e+00</td>\n",
       "      <td>1.516255e+00</td>\n",
       "      <td>1.415869e+00</td>\n",
       "      <td>1.380247e+00</td>\n",
       "      <td>1.332271e+00</td>\n",
       "      <td>1.237094e+00</td>\n",
       "      <td>1.194353e+00</td>\n",
       "      <td>1.098632e+00</td>\n",
       "      <td>...</td>\n",
       "      <td>7.345240e-01</td>\n",
       "      <td>7.257016e-01</td>\n",
       "      <td>6.244603e-01</td>\n",
       "      <td>6.056471e-01</td>\n",
       "      <td>5.212781e-01</td>\n",
       "      <td>4.822270e-01</td>\n",
       "      <td>4.036325e-01</td>\n",
       "      <td>3.300833e-01</td>\n",
       "      <td>250.120109</td>\n",
       "      <td>0.041527</td>\n",
       "    </tr>\n",
       "    <tr>\n",
       "      <th>min</th>\n",
       "      <td>0.000000</td>\n",
       "      <td>-5.640751e+01</td>\n",
       "      <td>-7.271573e+01</td>\n",
       "      <td>-4.832559e+01</td>\n",
       "      <td>-5.683171e+00</td>\n",
       "      <td>-1.137433e+02</td>\n",
       "      <td>-2.616051e+01</td>\n",
       "      <td>-4.355724e+01</td>\n",
       "      <td>-7.321672e+01</td>\n",
       "      <td>-1.343407e+01</td>\n",
       "      <td>...</td>\n",
       "      <td>-3.483038e+01</td>\n",
       "      <td>-1.093314e+01</td>\n",
       "      <td>-4.480774e+01</td>\n",
       "      <td>-2.836627e+00</td>\n",
       "      <td>-1.029540e+01</td>\n",
       "      <td>-2.604551e+00</td>\n",
       "      <td>-2.256568e+01</td>\n",
       "      <td>-1.543008e+01</td>\n",
       "      <td>0.000000</td>\n",
       "      <td>0.000000</td>\n",
       "    </tr>\n",
       "    <tr>\n",
       "      <th>25%</th>\n",
       "      <td>54201.500000</td>\n",
       "      <td>-9.203734e-01</td>\n",
       "      <td>-5.985499e-01</td>\n",
       "      <td>-8.903648e-01</td>\n",
       "      <td>-8.486401e-01</td>\n",
       "      <td>-6.915971e-01</td>\n",
       "      <td>-7.682956e-01</td>\n",
       "      <td>-5.540759e-01</td>\n",
       "      <td>-2.086297e-01</td>\n",
       "      <td>-6.430976e-01</td>\n",
       "      <td>...</td>\n",
       "      <td>-2.283949e-01</td>\n",
       "      <td>-5.423504e-01</td>\n",
       "      <td>-1.618463e-01</td>\n",
       "      <td>-3.545861e-01</td>\n",
       "      <td>-3.171451e-01</td>\n",
       "      <td>-3.269839e-01</td>\n",
       "      <td>-7.083953e-02</td>\n",
       "      <td>-5.295979e-02</td>\n",
       "      <td>5.600000</td>\n",
       "      <td>0.000000</td>\n",
       "    </tr>\n",
       "    <tr>\n",
       "      <th>50%</th>\n",
       "      <td>84692.000000</td>\n",
       "      <td>1.810880e-02</td>\n",
       "      <td>6.548556e-02</td>\n",
       "      <td>1.798463e-01</td>\n",
       "      <td>-1.984653e-02</td>\n",
       "      <td>-5.433583e-02</td>\n",
       "      <td>-2.741871e-01</td>\n",
       "      <td>4.010308e-02</td>\n",
       "      <td>2.235804e-02</td>\n",
       "      <td>-5.142873e-02</td>\n",
       "      <td>...</td>\n",
       "      <td>-2.945017e-02</td>\n",
       "      <td>6.781943e-03</td>\n",
       "      <td>-1.119293e-02</td>\n",
       "      <td>4.097606e-02</td>\n",
       "      <td>1.659350e-02</td>\n",
       "      <td>-5.213911e-02</td>\n",
       "      <td>1.342146e-03</td>\n",
       "      <td>1.124383e-02</td>\n",
       "      <td>22.000000</td>\n",
       "      <td>0.000000</td>\n",
       "    </tr>\n",
       "    <tr>\n",
       "      <th>75%</th>\n",
       "      <td>139320.500000</td>\n",
       "      <td>1.315642e+00</td>\n",
       "      <td>8.037239e-01</td>\n",
       "      <td>1.027196e+00</td>\n",
       "      <td>7.433413e-01</td>\n",
       "      <td>6.119264e-01</td>\n",
       "      <td>3.985649e-01</td>\n",
       "      <td>5.704361e-01</td>\n",
       "      <td>3.273459e-01</td>\n",
       "      <td>5.971390e-01</td>\n",
       "      <td>...</td>\n",
       "      <td>1.863772e-01</td>\n",
       "      <td>5.285536e-01</td>\n",
       "      <td>1.476421e-01</td>\n",
       "      <td>4.395266e-01</td>\n",
       "      <td>3.507156e-01</td>\n",
       "      <td>2.409522e-01</td>\n",
       "      <td>9.104512e-02</td>\n",
       "      <td>7.827995e-02</td>\n",
       "      <td>77.165000</td>\n",
       "      <td>0.000000</td>\n",
       "    </tr>\n",
       "    <tr>\n",
       "      <th>max</th>\n",
       "      <td>172792.000000</td>\n",
       "      <td>2.454930e+00</td>\n",
       "      <td>2.205773e+01</td>\n",
       "      <td>9.382558e+00</td>\n",
       "      <td>1.687534e+01</td>\n",
       "      <td>3.480167e+01</td>\n",
       "      <td>7.330163e+01</td>\n",
       "      <td>1.205895e+02</td>\n",
       "      <td>2.000721e+01</td>\n",
       "      <td>1.559499e+01</td>\n",
       "      <td>...</td>\n",
       "      <td>2.720284e+01</td>\n",
       "      <td>1.050309e+01</td>\n",
       "      <td>2.252841e+01</td>\n",
       "      <td>4.584549e+00</td>\n",
       "      <td>7.519589e+00</td>\n",
       "      <td>3.517346e+00</td>\n",
       "      <td>3.161220e+01</td>\n",
       "      <td>3.384781e+01</td>\n",
       "      <td>25691.160000</td>\n",
       "      <td>1.000000</td>\n",
       "    </tr>\n",
       "  </tbody>\n",
       "</table>\n",
       "<p>8 rows × 31 columns</p>\n",
       "</div>"
      ],
      "text/plain": [
       "                Time            V1            V2            V3            V4  \\\n",
       "count  284807.000000  2.848070e+05  2.848070e+05  2.848070e+05  2.848070e+05   \n",
       "mean    94813.859575  1.762597e-12 -8.251146e-13 -9.655448e-13  8.321385e-13   \n",
       "std     47488.145955  1.958696e+00  1.651309e+00  1.516255e+00  1.415869e+00   \n",
       "min         0.000000 -5.640751e+01 -7.271573e+01 -4.832559e+01 -5.683171e+00   \n",
       "25%     54201.500000 -9.203734e-01 -5.985499e-01 -8.903648e-01 -8.486401e-01   \n",
       "50%     84692.000000  1.810880e-02  6.548556e-02  1.798463e-01 -1.984653e-02   \n",
       "75%    139320.500000  1.315642e+00  8.037239e-01  1.027196e+00  7.433413e-01   \n",
       "max    172792.000000  2.454930e+00  2.205773e+01  9.382558e+00  1.687534e+01   \n",
       "\n",
       "                 V5            V6            V7            V8            V9  \\\n",
       "count  2.848070e+05  2.848070e+05  2.848070e+05  2.848070e+05  2.848070e+05   \n",
       "mean   1.649983e-13  4.248434e-13 -3.054696e-13  8.777981e-14 -1.179757e-12   \n",
       "std    1.380247e+00  1.332271e+00  1.237094e+00  1.194353e+00  1.098632e+00   \n",
       "min   -1.137433e+02 -2.616051e+01 -4.355724e+01 -7.321672e+01 -1.343407e+01   \n",
       "25%   -6.915971e-01 -7.682956e-01 -5.540759e-01 -2.086297e-01 -6.430976e-01   \n",
       "50%   -5.433583e-02 -2.741871e-01  4.010308e-02  2.235804e-02 -5.142873e-02   \n",
       "75%    6.119264e-01  3.985649e-01  5.704361e-01  3.273459e-01  5.971390e-01   \n",
       "max    3.480167e+01  7.330163e+01  1.205895e+02  2.000721e+01  1.559499e+01   \n",
       "\n",
       "       ...           V21           V22           V23           V24  \\\n",
       "count  ...  2.848070e+05  2.848070e+05  2.848070e+05  2.848070e+05   \n",
       "mean   ... -3.405785e-13 -5.723165e-13 -9.725860e-13  1.464148e-12   \n",
       "std    ...  7.345240e-01  7.257016e-01  6.244603e-01  6.056471e-01   \n",
       "min    ... -3.483038e+01 -1.093314e+01 -4.480774e+01 -2.836627e+00   \n",
       "25%    ... -2.283949e-01 -5.423504e-01 -1.618463e-01 -3.545861e-01   \n",
       "50%    ... -2.945017e-02  6.781943e-03 -1.119293e-02  4.097606e-02   \n",
       "75%    ...  1.863772e-01  5.285536e-01  1.476421e-01  4.395266e-01   \n",
       "max    ...  2.720284e+01  1.050309e+01  2.252841e+01  4.584549e+00   \n",
       "\n",
       "                V25           V26           V27           V28         Amount  \\\n",
       "count  2.848070e+05  2.848070e+05  2.848070e+05  2.848070e+05  284807.000000   \n",
       "mean  -6.987110e-13 -5.617884e-13  3.332082e-12 -3.518875e-12      88.349619   \n",
       "std    5.212781e-01  4.822270e-01  4.036325e-01  3.300833e-01     250.120109   \n",
       "min   -1.029540e+01 -2.604551e+00 -2.256568e+01 -1.543008e+01       0.000000   \n",
       "25%   -3.171451e-01 -3.269839e-01 -7.083953e-02 -5.295979e-02       5.600000   \n",
       "50%    1.659350e-02 -5.213911e-02  1.342146e-03  1.124383e-02      22.000000   \n",
       "75%    3.507156e-01  2.409522e-01  9.104512e-02  7.827995e-02      77.165000   \n",
       "max    7.519589e+00  3.517346e+00  3.161220e+01  3.384781e+01   25691.160000   \n",
       "\n",
       "               Class  \n",
       "count  284807.000000  \n",
       "mean        0.001727  \n",
       "std         0.041527  \n",
       "min         0.000000  \n",
       "25%         0.000000  \n",
       "50%         0.000000  \n",
       "75%         0.000000  \n",
       "max         1.000000  \n",
       "\n",
       "[8 rows x 31 columns]"
      ]
     },
     "execution_count": 3,
     "metadata": {},
     "output_type": "execute_result"
    }
   ],
   "source": [
    "# Import XDF data file and describe data.\n",
    "df = ddf.read_csv('creditcard.csv').compute()\n",
    "df.describe()"
   ]
  },
  {
   "cell_type": "markdown",
   "metadata": {},
   "source": [
    "## Explore"
   ]
  },
  {
   "cell_type": "code",
   "execution_count": 4,
   "metadata": {
    "scrolled": true
   },
   "outputs": [
    {
     "data": {
      "text/plain": [
       "Time      0\n",
       "V1        0\n",
       "V2        0\n",
       "V3        0\n",
       "V4        0\n",
       "V5        0\n",
       "V6        0\n",
       "V7        0\n",
       "V8        0\n",
       "V9        0\n",
       "V10       0\n",
       "V11       0\n",
       "V12       0\n",
       "V13       0\n",
       "V14       0\n",
       "V15       0\n",
       "V16       0\n",
       "V17       0\n",
       "V18       0\n",
       "V19       0\n",
       "V20       0\n",
       "V21       0\n",
       "V22       0\n",
       "V23       0\n",
       "V24       0\n",
       "V25       0\n",
       "V26       0\n",
       "V27       0\n",
       "V28       0\n",
       "Amount    0\n",
       "Class     0\n",
       "dtype: int64"
      ]
     },
     "execution_count": 4,
     "metadata": {},
     "output_type": "execute_result"
    }
   ],
   "source": [
    "# Check for missing data\n",
    "df.isnull().sum()"
   ]
  },
  {
   "cell_type": "code",
   "execution_count": 5,
   "metadata": {},
   "outputs": [
    {
     "data": {
      "text/html": [
       "<div>\n",
       "<style scoped>\n",
       "    .dataframe tbody tr th:only-of-type {\n",
       "        vertical-align: middle;\n",
       "    }\n",
       "\n",
       "    .dataframe tbody tr th {\n",
       "        vertical-align: top;\n",
       "    }\n",
       "\n",
       "    .dataframe thead th {\n",
       "        text-align: right;\n",
       "    }\n",
       "</style>\n",
       "<table border=\"1\" class=\"dataframe\">\n",
       "  <thead>\n",
       "    <tr style=\"text-align: right;\">\n",
       "      <th></th>\n",
       "      <th>Time</th>\n",
       "      <th>V1</th>\n",
       "      <th>V2</th>\n",
       "      <th>V3</th>\n",
       "      <th>V4</th>\n",
       "      <th>V5</th>\n",
       "      <th>V6</th>\n",
       "      <th>V7</th>\n",
       "      <th>V8</th>\n",
       "      <th>V9</th>\n",
       "      <th>...</th>\n",
       "      <th>V21</th>\n",
       "      <th>V22</th>\n",
       "      <th>V23</th>\n",
       "      <th>V24</th>\n",
       "      <th>V25</th>\n",
       "      <th>V26</th>\n",
       "      <th>V27</th>\n",
       "      <th>V28</th>\n",
       "      <th>Amount</th>\n",
       "      <th>Class</th>\n",
       "    </tr>\n",
       "  </thead>\n",
       "  <tbody>\n",
       "  </tbody>\n",
       "</table>\n",
       "<p>0 rows × 31 columns</p>\n",
       "</div>"
      ],
      "text/plain": [
       "Empty DataFrame\n",
       "Columns: [Time, V1, V2, V3, V4, V5, V6, V7, V8, V9, V10, V11, V12, V13, V14, V15, V16, V17, V18, V19, V20, V21, V22, V23, V24, V25, V26, V27, V28, Amount, Class]\n",
       "Index: []\n",
       "\n",
       "[0 rows x 31 columns]"
      ]
     },
     "execution_count": 5,
     "metadata": {},
     "output_type": "execute_result"
    }
   ],
   "source": [
    "# Check for rows with nulls\n",
    "df[df.isnull().any(axis=1)]"
   ]
  },
  {
   "cell_type": "code",
   "execution_count": 6,
   "metadata": {},
   "outputs": [
    {
     "data": {
      "image/png": "[encoded data removed]",
      "text/plain": [
       "<Figure size 432x288 with 1 Axes>"
      ]
     },
     "metadata": {
      "needs_background": "light"
     },
     "output_type": "display_data"
    }
   ],
   "source": [
    "box_amount = sb.boxplot(x=df.Amount)"
   ]
  },
  {
   "cell_type": "code",
   "execution_count": 7,
   "metadata": {},
   "outputs": [
    {
     "data": {
      "image/png": "[encoded data removed]",
      "text/plain": [
       "<Figure size 432x288 with 1 Axes>"
      ]
     },
     "metadata": {
      "needs_background": "light"
     },
     "output_type": "display_data"
    }
   ],
   "source": [
    "hist_amount = sb.histplot(df.Amount, bins=25, kde=True)"
   ]
  },
  {
   "cell_type": "code",
   "execution_count": 8,
   "metadata": {},
   "outputs": [],
   "source": [
    "TARGET = 'Class' # The name of our target variable."
   ]
  },
  {
   "cell_type": "code",
   "execution_count": 9,
   "metadata": {},
   "outputs": [
    {
     "name": "stdout",
     "output_type": "stream",
     "text": [
      "The ratio of fraud to non-fraud transactions is 0.173% to 99.827%.\n"
     ]
    }
   ],
   "source": [
    "# Is this a rare event problem where the minority class < 2%.\n",
    "fraud = df.query(TARGET + ' == 1')\n",
    "nonfraud = df.query(TARGET + ' == 0')\n",
    "ratio = len(fraud) / len(df)*100\n",
    "print(str.format(\"The ratio of fraud to non-fraud transactions is {0:.3f}% to {1:.3f}%.\", ratio, 100-ratio))"
   ]
  },
  {
   "cell_type": "code",
   "execution_count": 10,
   "metadata": {},
   "outputs": [
    {
     "data": {
      "image/png": "[encoded data removed]",
      "text/plain": [
       "<Figure size 720x720 with 1 Axes>"
      ]
     },
     "metadata": {
      "needs_background": "light"
     },
     "output_type": "display_data"
    }
   ],
   "source": [
    "f, ax = plt.subplots(figsize=(10, 10))\n",
    "fraud_cats = sb.countplot(x=TARGET, data=df)"
   ]
  },
  {
   "cell_type": "markdown",
   "metadata": {},
   "source": [
    "## Modify &ndash; Oversample the minority class"
   ]
  },
  {
   "cell_type": "code",
   "execution_count": 11,
   "metadata": {},
   "outputs": [],
   "source": [
    "features = df.drop(['Time', 'Class'], 1)\n",
    "target = df['Class']\n",
    "column_names = features.columns\n",
    "\n",
    "x_train, x_val, y_train, y_val = train_test_split(features.values, target.values, test_size=0.1, random_state=123)\n",
    " \n",
    "# Oversample minority class\n",
    "ros = RandomOverSampler(sampling_strategy='minority', random_state=123)\n",
    "X_over, y_over = ros.fit_resample(x_train, y_train)"
   ]
  },
  {
   "cell_type": "code",
   "execution_count": 12,
   "metadata": {},
   "outputs": [],
   "source": [
    "df_val = pd.DataFrame(columns=column_names, data=x_val)\n",
    "df_val[TARGET] = y_val"
   ]
  },
  {
   "cell_type": "code",
   "execution_count": 13,
   "metadata": {},
   "outputs": [
    {
     "name": "stdout",
     "output_type": "stream",
     "text": [
      "The ratio of fraud to non-fraud transactions is 89.845% to 10.155%.\n"
     ]
    }
   ],
   "source": [
    "# Is this a rare event problem where the minority class < 2%.\n",
    "fraud = [y for y in y_over if y == 1]\n",
    "nonfraud = [y for y in y_over if y == 0]\n",
    "ratio = len(fraud) / len(df)*100\n",
    "print(str.format(\"The ratio of fraud to non-fraud transactions is {0:.3f}% to {1:.3f}%.\", ratio, 100-ratio))"
   ]
  },
  {
   "cell_type": "code",
   "execution_count": 14,
   "metadata": {},
   "outputs": [
    {
     "data": {
      "text/plain": [
       "count    511770.0\n",
       "mean          0.5\n",
       "std           0.5\n",
       "min           0.0\n",
       "25%           0.0\n",
       "50%           0.5\n",
       "75%           1.0\n",
       "max           1.0\n",
       "Name: Class, dtype: float64"
      ]
     },
     "execution_count": 14,
     "metadata": {},
     "output_type": "execute_result"
    }
   ],
   "source": [
    "df_over = pd.DataFrame(columns=column_names, data=X_over)\n",
    "df_over[TARGET] = y_over\n",
    "df_over[TARGET].describe()"
   ]
  },
  {
   "cell_type": "code",
   "execution_count": 15,
   "metadata": {},
   "outputs": [
    {
     "data": {
      "image/png": "[encoded data removed]",
      "text/plain": [
       "<Figure size 720x720 with 1 Axes>"
      ]
     },
     "metadata": {
      "needs_background": "light"
     },
     "output_type": "display_data"
    }
   ],
   "source": [
    "f, ax = plt.subplots(figsize=(10, 10))\n",
    "fraud_cats = sb.countplot(x=TARGET, data=df_over)"
   ]
  },
  {
   "cell_type": "markdown",
   "metadata": {},
   "source": [
    "## Model"
   ]
  },
  {
   "cell_type": "markdown",
   "metadata": {},
   "source": [
    "### Feature Selection"
   ]
  },
  {
   "cell_type": "code",
   "execution_count": 16,
   "metadata": {},
   "outputs": [
    {
     "data": {
      "text/plain": [
       "['V1', 'V4', 'V7', 'V13', 'V14', 'V18', 'V22', 'V23', 'V26', 'V28']"
      ]
     },
     "execution_count": 16,
     "metadata": {},
     "output_type": "execute_result"
    }
   ],
   "source": [
    "# ElasticNet feature selection for significant predictors\n",
    "sig_features = get_elasticnet(X_over, y_over, column_names)\n",
    "sig_features"
   ]
  },
  {
   "cell_type": "markdown",
   "metadata": {},
   "source": [
    "### Select Significant Features"
   ]
  },
  {
   "cell_type": "code",
   "execution_count": 17,
   "metadata": {},
   "outputs": [],
   "source": [
    "x_train = df_over[sig_features].values\n",
    "y_train = df_over[TARGET].values\n",
    "\n",
    "x_val = df_val[sig_features].values\n",
    "y_val = df_val[TARGET].values"
   ]
  },
  {
   "cell_type": "code",
   "execution_count": 18,
   "metadata": {},
   "outputs": [
    {
     "data": {
      "text/plain": [
       "'Class ~ V1 + V4 + V7 + V13 + V14 + V18 + V22 + V23 + V26 + V28'"
      ]
     },
     "execution_count": 18,
     "metadata": {},
     "output_type": "execute_result"
    }
   ],
   "source": [
    "# Create formula string\n",
    "formula = TARGET + \" ~ \" + \" + \".join(sig_features)\n",
    "formula"
   ]
  },
  {
   "cell_type": "markdown",
   "metadata": {},
   "source": [
    "### StatsModels Logit"
   ]
  },
  {
   "cell_type": "code",
   "execution_count": 19,
   "metadata": {},
   "outputs": [
    {
     "name": "stdout",
     "output_type": "stream",
     "text": [
      "Optimization terminated successfully.\n",
      "         Current function value: 0.174905\n",
      "         Iterations 10\n"
     ]
    },
    {
     "data": {
      "text/html": [
       "<table class=\"simpletable\">\n",
       "<tr>\n",
       "        <td>Model:</td>              <td>Logit</td>      <td>Pseudo R-squared:</td>    <td>0.748</td>   \n",
       "</tr>\n",
       "<tr>\n",
       "  <td>Dependent Variable:</td>       <td>Class</td>            <td>AIC:</td>        <td>179044.7468</td>\n",
       "</tr>\n",
       "<tr>\n",
       "         <td>Date:</td>        <td>2021-03-05 09:50</td>       <td>BIC:</td>        <td>179167.3487</td>\n",
       "</tr>\n",
       "<tr>\n",
       "   <td>No. Observations:</td>       <td>511770</td>       <td>Log-Likelihood:</td>    <td>-89511.</td>  \n",
       "</tr>\n",
       "<tr>\n",
       "       <td>Df Model:</td>             <td>10</td>            <td>LL-Null:</td>      <td>-3.5473e+05</td>\n",
       "</tr>\n",
       "<tr>\n",
       "     <td>Df Residuals:</td>         <td>511759</td>        <td>LLR p-value:</td>      <td>0.0000</td>   \n",
       "</tr>\n",
       "<tr>\n",
       "      <td>Converged:</td>           <td>1.0000</td>           <td>Scale:</td>         <td>1.0000</td>   \n",
       "</tr>\n",
       "<tr>\n",
       "    <td>No. Iterations:</td>        <td>10.0000</td>             <td></td>               <td></td>      \n",
       "</tr>\n",
       "</table>\n",
       "<table class=\"simpletable\">\n",
       "<tr>\n",
       "      <td></td>       <th>Coef.</th>  <th>Std.Err.</th>     <th>z</th>      <th>P>|z|</th> <th>[0.025</th>  <th>0.975]</th> \n",
       "</tr>\n",
       "<tr>\n",
       "  <th>Intercept</th> <td>-2.8786</td>  <td>0.0093</td>  <td>-309.2938</td> <td>0.0000</td> <td>-2.8968</td> <td>-2.8603</td>\n",
       "</tr>\n",
       "<tr>\n",
       "  <th>V1</th>        <td>-0.1401</td>  <td>0.0031</td>  <td>-45.0265</td>  <td>0.0000</td> <td>-0.1462</td> <td>-0.1340</td>\n",
       "</tr>\n",
       "<tr>\n",
       "  <th>V4</th>        <td>0.8153</td>   <td>0.0044</td>  <td>186.8207</td>  <td>0.0000</td> <td>0.8067</td>  <td>0.8238</td> \n",
       "</tr>\n",
       "<tr>\n",
       "  <th>V7</th>        <td>0.0238</td>   <td>0.0038</td>   <td>6.2320</td>   <td>0.0000</td> <td>0.0163</td>  <td>0.0313</td> \n",
       "</tr>\n",
       "<tr>\n",
       "  <th>V13</th>       <td>-0.3602</td>  <td>0.0063</td>  <td>-56.9675</td>  <td>0.0000</td> <td>-0.3726</td> <td>-0.3478</td>\n",
       "</tr>\n",
       "<tr>\n",
       "  <th>V14</th>       <td>-1.0422</td>  <td>0.0048</td>  <td>-215.6022</td> <td>0.0000</td> <td>-1.0517</td> <td>-1.0328</td>\n",
       "</tr>\n",
       "<tr>\n",
       "  <th>V18</th>       <td>-0.0880</td>  <td>0.0068</td>  <td>-12.8820</td>  <td>0.0000</td> <td>-0.1014</td> <td>-0.0746</td>\n",
       "</tr>\n",
       "<tr>\n",
       "  <th>V22</th>       <td>0.3040</td>   <td>0.0082</td>   <td>37.1844</td>  <td>0.0000</td> <td>0.2880</td>  <td>0.3201</td> \n",
       "</tr>\n",
       "<tr>\n",
       "  <th>V23</th>       <td>-0.2957</td>  <td>0.0052</td>  <td>-56.7255</td>  <td>0.0000</td> <td>-0.3059</td> <td>-0.2854</td>\n",
       "</tr>\n",
       "<tr>\n",
       "  <th>V26</th>       <td>-0.4135</td>  <td>0.0134</td>  <td>-30.8966</td>  <td>0.0000</td> <td>-0.4397</td> <td>-0.3873</td>\n",
       "</tr>\n",
       "<tr>\n",
       "  <th>V28</th>       <td>0.2985</td>   <td>0.0194</td>   <td>15.4081</td>  <td>0.0000</td> <td>0.2605</td>  <td>0.3365</td> \n",
       "</tr>\n",
       "</table>"
      ],
      "text/plain": [
       "<class 'statsmodels.iolib.summary2.Summary'>\n",
       "\"\"\"\n",
       "                          Results: Logit\n",
       "==================================================================\n",
       "Model:              Logit            Pseudo R-squared: 0.748      \n",
       "Dependent Variable: Class            AIC:              179044.7468\n",
       "Date:               2021-03-05 09:50 BIC:              179167.3487\n",
       "No. Observations:   511770           Log-Likelihood:   -89511.    \n",
       "Df Model:           10               LL-Null:          -3.5473e+05\n",
       "Df Residuals:       511759           LLR p-value:      0.0000     \n",
       "Converged:          1.0000           Scale:            1.0000     \n",
       "No. Iterations:     10.0000                                       \n",
       "-------------------------------------------------------------------\n",
       "              Coef.   Std.Err.      z      P>|z|    [0.025   0.975]\n",
       "-------------------------------------------------------------------\n",
       "Intercept    -2.8786    0.0093  -309.2938  0.0000  -2.8968  -2.8603\n",
       "V1           -0.1401    0.0031   -45.0265  0.0000  -0.1462  -0.1340\n",
       "V4            0.8153    0.0044   186.8207  0.0000   0.8067   0.8238\n",
       "V7            0.0238    0.0038     6.2320  0.0000   0.0163   0.0313\n",
       "V13          -0.3602    0.0063   -56.9675  0.0000  -0.3726  -0.3478\n",
       "V14          -1.0422    0.0048  -215.6022  0.0000  -1.0517  -1.0328\n",
       "V18          -0.0880    0.0068   -12.8820  0.0000  -0.1014  -0.0746\n",
       "V22           0.3040    0.0082    37.1844  0.0000   0.2880   0.3201\n",
       "V23          -0.2957    0.0052   -56.7255  0.0000  -0.3059  -0.2854\n",
       "V26          -0.4135    0.0134   -30.8966  0.0000  -0.4397  -0.3873\n",
       "V28           0.2985    0.0194    15.4081  0.0000   0.2605   0.3365\n",
       "==================================================================\n",
       "\n",
       "\"\"\""
      ]
     },
     "execution_count": 19,
     "metadata": {},
     "output_type": "execute_result"
    }
   ],
   "source": [
    "sm_logit = smf.logit(formula=formula, data=df_over).fit()\n",
    "sm_logit.summary2()"
   ]
  },
  {
   "cell_type": "code",
   "execution_count": 20,
   "metadata": {},
   "outputs": [
    {
     "name": "stdout",
     "output_type": "stream",
     "text": [
      "Sensitivity: 94.118%, Specificity: 98.755%, Threshold: 0.740\n"
     ]
    },
    {
     "data": {
      "image/png": "[encoded data removed]",
      "text/plain": [
       "<Figure size 720x720 with 1 Axes>"
      ]
     },
     "metadata": {
      "needs_background": "light"
     },
     "output_type": "display_data"
    },
    {
     "name": "stdout",
     "output_type": "stream",
     "text": [
      "      Model  TP   FP     TN  FN  Sensitivity  Specificity  Cutoff  Accuracy  \\\n",
      "0  SM Logit  48  354  28076   3     0.941176     0.987548    0.74  0.964362   \n",
      "\n",
      "        AUC  \n",
      "0  0.982407  \n"
     ]
    }
   ],
   "source": [
    "df_val['prob'] = sm_logit.predict(df_val)\n",
    "yhat, stats = get_predict_frame(y_val, df_val.prob, 'SM Logit')\n",
    "df_val['yhat'] = yhat\n",
    "plot_roc(y_val, df_val.prob)\n",
    "print(stats.head())"
   ]
  },
  {
   "cell_type": "markdown",
   "metadata": {},
   "source": [
    "### Scikit Logit"
   ]
  },
  {
   "cell_type": "code",
   "execution_count": 21,
   "metadata": {},
   "outputs": [
    {
     "name": "stdout",
     "output_type": "stream",
     "text": [
      "Sensitivity: 94.118%, Specificity: 98.755%, Threshold: 0.740\n"
     ]
    },
    {
     "data": {
      "image/png": "[encoded data removed]",
      "text/plain": [
       "<Figure size 720x720 with 1 Axes>"
      ]
     },
     "metadata": {
      "needs_background": "light"
     },
     "output_type": "display_data"
    },
    {
     "name": "stdout",
     "output_type": "stream",
     "text": [
      "          Model  TP   FP     TN  FN  Sensitivity  Specificity  Cutoff  \\\n",
      "0  Scikit Logit  48  354  28076   3     0.941176     0.987548    0.74   \n",
      "\n",
      "   Accuracy       AUC  \n",
      "0  0.964362  0.982408  \n"
     ]
    }
   ],
   "source": [
    "from sklearn.linear_model import LogisticRegression\n",
    "\n",
    "# Set regularization rate\n",
    "reg = 0.01\n",
    "\n",
    "# train a logistic regression model on the training set\n",
    "logit_model = LogisticRegression(C=1/reg, max_iter=10000, solver='liblinear').fit(x_train, y_train)\n",
    "\n",
    "logit_predictions = logit_model.predict(x_val)\n",
    "logit_y_scores = logit_model.predict_proba(x_val)\n",
    "logit_prob = logit_y_scores[:,1]\n",
    "logit_yhat, logit_stats = get_predict_frame(y_val, logit_prob, 'Scikit Logit')\n",
    "plot_roc(y_val, logit_prob)\n",
    "print(logit_stats.head())"
   ]
  },
  {
   "cell_type": "markdown",
   "metadata": {},
   "source": [
    "### Scikit Decision Tree"
   ]
  },
  {
   "cell_type": "code",
   "execution_count": 22,
   "metadata": {},
   "outputs": [
    {
     "name": "stdout",
     "output_type": "stream",
     "text": [
      "Sensitivity: 76.471%, Specificity: 99.954%, Threshold: 0.010\n"
     ]
    },
    {
     "data": {
      "image/png": "[encoded data removed]",
      "text/plain": [
       "<Figure size 720x720 with 1 Axes>"
      ]
     },
     "metadata": {
      "needs_background": "light"
     },
     "output_type": "display_data"
    },
    {
     "name": "stdout",
     "output_type": "stream",
     "text": [
      "          Model  TP  FP     TN  FN  Sensitivity  Specificity  Cutoff  \\\n",
      "0  Scikit DTree  39  13  28417  12     0.764706     0.999543    0.01   \n",
      "\n",
      "   Accuracy       AUC  \n",
      "0  0.882124  0.882124  \n"
     ]
    }
   ],
   "source": [
    "from sklearn.tree import DecisionTreeClassifier\n",
    "\n",
    "tree_model = DecisionTreeClassifier().fit(x_train, y_train)\n",
    "tree_predictions = tree_model.predict(x_val)\n",
    "tree_y_scores = tree_model.predict_proba(x_val)\n",
    "tree_prob = tree_y_scores[:,1]\n",
    "\n",
    "tree_yhat, tree_stats = get_predict_frame(y_val, tree_prob, 'Scikit DTree')\n",
    "plot_roc(y_val, tree_prob)\n",
    "print(tree_stats.head())"
   ]
  },
  {
   "cell_type": "markdown",
   "metadata": {},
   "source": [
    "### Scikit Random Forest"
   ]
  },
  {
   "cell_type": "code",
   "execution_count": 23,
   "metadata": {},
   "outputs": [
    {
     "name": "stdout",
     "output_type": "stream",
     "text": [
      "Sensitivity: 92.157%, Specificity: 99.743%, Threshold: 0.050\n"
     ]
    },
    {
     "data": {
      "image/png": "[encoded data removed]",
      "text/plain": [
       "<Figure size 720x720 with 1 Axes>"
      ]
     },
     "metadata": {
      "needs_background": "light"
     },
     "output_type": "display_data"
    },
    {
     "name": "stdout",
     "output_type": "stream",
     "text": [
      "                  Model  TP  FP     TN  FN  Sensitivity  Specificity  Cutoff  \\\n",
      "0  Scikit Random Forest  47  73  28357   4     0.921569     0.997432    0.05   \n",
      "\n",
      "   Accuracy       AUC  \n",
      "0    0.9595  0.959691  \n"
     ]
    }
   ],
   "source": [
    "from sklearn.ensemble import RandomForestClassifier\n",
    "\n",
    "forest_model = RandomForestClassifier(n_estimators=100).fit(x_train, y_train)\n",
    "forest_predictions = forest_model.predict(x_val)\n",
    "forest_y_scores = forest_model.predict_proba(x_val)\n",
    "forest_prob = forest_y_scores[:,1]\n",
    "\n",
    "forest_yhat, forest_stats = get_predict_frame(y_val, forest_prob, 'Scikit Random Forest')\n",
    "plot_roc(y_val, forest_prob)\n",
    "print(forest_stats.head())"
   ]
  },
  {
   "cell_type": "markdown",
   "metadata": {},
   "source": [
    "## Assess"
   ]
  },
  {
   "cell_type": "code",
   "execution_count": 24,
   "metadata": {},
   "outputs": [
    {
     "data": {
      "text/html": [
       "<div>\n",
       "<style scoped>\n",
       "    .dataframe tbody tr th:only-of-type {\n",
       "        vertical-align: middle;\n",
       "    }\n",
       "\n",
       "    .dataframe tbody tr th {\n",
       "        vertical-align: top;\n",
       "    }\n",
       "\n",
       "    .dataframe thead th {\n",
       "        text-align: right;\n",
       "    }\n",
       "</style>\n",
       "<table border=\"1\" class=\"dataframe\">\n",
       "  <thead>\n",
       "    <tr style=\"text-align: right;\">\n",
       "      <th></th>\n",
       "      <th>Model</th>\n",
       "      <th>TP</th>\n",
       "      <th>FP</th>\n",
       "      <th>TN</th>\n",
       "      <th>FN</th>\n",
       "      <th>Sensitivity</th>\n",
       "      <th>Specificity</th>\n",
       "      <th>Cutoff</th>\n",
       "      <th>Accuracy</th>\n",
       "      <th>AUC</th>\n",
       "    </tr>\n",
       "  </thead>\n",
       "  <tbody>\n",
       "    <tr>\n",
       "      <th>0</th>\n",
       "      <td>SM Logit</td>\n",
       "      <td>48</td>\n",
       "      <td>354</td>\n",
       "      <td>28076</td>\n",
       "      <td>3</td>\n",
       "      <td>0.941176</td>\n",
       "      <td>0.987548</td>\n",
       "      <td>0.74</td>\n",
       "      <td>0.964362</td>\n",
       "      <td>0.982407</td>\n",
       "    </tr>\n",
       "    <tr>\n",
       "      <th>0</th>\n",
       "      <td>Scikit Logit</td>\n",
       "      <td>48</td>\n",
       "      <td>354</td>\n",
       "      <td>28076</td>\n",
       "      <td>3</td>\n",
       "      <td>0.941176</td>\n",
       "      <td>0.987548</td>\n",
       "      <td>0.74</td>\n",
       "      <td>0.964362</td>\n",
       "      <td>0.982408</td>\n",
       "    </tr>\n",
       "    <tr>\n",
       "      <th>0</th>\n",
       "      <td>Scikit DTree</td>\n",
       "      <td>39</td>\n",
       "      <td>13</td>\n",
       "      <td>28417</td>\n",
       "      <td>12</td>\n",
       "      <td>0.764706</td>\n",
       "      <td>0.999543</td>\n",
       "      <td>0.01</td>\n",
       "      <td>0.882124</td>\n",
       "      <td>0.882124</td>\n",
       "    </tr>\n",
       "    <tr>\n",
       "      <th>0</th>\n",
       "      <td>Scikit Random Forest</td>\n",
       "      <td>47</td>\n",
       "      <td>73</td>\n",
       "      <td>28357</td>\n",
       "      <td>4</td>\n",
       "      <td>0.921569</td>\n",
       "      <td>0.997432</td>\n",
       "      <td>0.05</td>\n",
       "      <td>0.959500</td>\n",
       "      <td>0.959691</td>\n",
       "    </tr>\n",
       "  </tbody>\n",
       "</table>\n",
       "</div>"
      ],
      "text/plain": [
       "                  Model  TP   FP     TN  FN  Sensitivity  Specificity  Cutoff  \\\n",
       "0              SM Logit  48  354  28076   3     0.941176     0.987548    0.74   \n",
       "0          Scikit Logit  48  354  28076   3     0.941176     0.987548    0.74   \n",
       "0          Scikit DTree  39   13  28417  12     0.764706     0.999543    0.01   \n",
       "0  Scikit Random Forest  47   73  28357   4     0.921569     0.997432    0.05   \n",
       "\n",
       "   Accuracy       AUC  \n",
       "0  0.964362  0.982407  \n",
       "0  0.964362  0.982408  \n",
       "0  0.882124  0.882124  \n",
       "0  0.959500  0.959691  "
      ]
     },
     "execution_count": 24,
     "metadata": {},
     "output_type": "execute_result"
    }
   ],
   "source": [
    "compare = pd.concat([stats, logit_stats, tree_stats, forest_stats], 0)\n",
    "compare.sort_values('Accuracy')\n",
    "compare.head()"
   ]
  },
  {
   "cell_type": "code",
   "execution_count": null,
   "metadata": {},
   "outputs": [],
   "source": []
  }
 ],
 "metadata": {
  "kernelspec": {
   "display_name": "Python 3",
   "language": "python",
   "name": "python3"
  },
  "language_info": {
   "codemirror_mode": {
    "name": "ipython",
    "version": 3
   },
   "file_extension": ".py",
   "mimetype": "text/x-python",
   "name": "python",
   "nbconvert_exporter": "python",
   "pygments_lexer": "ipython3",
   "version": "3.8.2"
  }
 },
 "nbformat": 4,
 "nbformat_minor": 4
}
